{
  "nbformat": 4,
  "nbformat_minor": 0,
  "metadata": {
    "colab": {
      "name": "j component ass2.ipynb",
      "provenance": [],
      "collapsed_sections": [],
      "toc_visible": true
    },
    "kernelspec": {
      "name": "python3",
      "display_name": "Python 3"
    },
    "language_info": {
      "name": "python"
    }
  },
  "cells": [
    {
      "cell_type": "code",
      "metadata": {
        "colab": {
          "base_uri": "https://localhost:8080/"
        },
        "id": "MBKnGJV8r08-",
        "outputId": "ec73ac09-8321-40ee-fb70-63ba25790ae6"
      },
      "source": [
        "import numpy as np\n",
        "B0 = np.array([1235,1500,1850,2000])\n",
        "B1 = np.array([1900,1950,2000,2100])\n",
        "x1 = np.array([3.2,3.2,3.7,3.9,4,4,4.1,4.5,4.9,5.1,5.3,5.9,6])\n",
        "y = np.array([54445,64445,57189,63218,55794,56957,57081,61111,67938,66029,83088,81363,93940])\n",
        "size = x1.size\n",
        "for i in range(4):\n",
        "    y_temp = []\n",
        "    for j in range (size):\n",
        "     temp = (B0[i] + (B1[i]*x1[j]))\n",
        "     y_temp.append((y[j]-temp)**2)\n",
        "    print(f\"mean square error is:{np.mean(y_temp)}\")"
      ],
      "execution_count": 2,
      "outputs": [
        {
          "output_type": "stream",
          "name": "stdout",
          "text": [
            "mean square error is:3320373537.3076925\n",
            "mean square error is:3264631537.6923075\n",
            "mean square error is:3199907304.6153846\n",
            "mean square error is:3132651969.230769\n"
          ]
        }
      ]
    }
  ]
}